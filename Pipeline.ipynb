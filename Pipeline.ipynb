{
 "cells": [
  {
   "cell_type": "markdown",
   "metadata": {},
   "source": [
    "## **Teamleden**\n",
    "\n",
    "|Teamleden|GitHub Username|\n",
    "|--|--|\n",
    "|Nima Ghafar|NimaGhafar|\n",
    "|Busse Heemskerk|BJHeemskerk|\n",
    "|Henry Lau||\n",
    "|Jesse van Leeuwen|22096337|\n",
    "\n",
    "# *Foto Herkennings app*\n",
    "\n",
    "In dit notebook zal de pipeline worden opgesteld waarmee data kan worden ingeladen en het model mee wordt getraind, gedeployed en gehertraind.\n",
    "\n",
    "-verdere opdrachtomschrijving-\n",
    "\n",
    "-inhoudsopgave-\n",
    "\n",
    "## Inladen van de libaries en de data"
   ]
  },
  {
   "cell_type": "code",
   "execution_count": 2,
   "metadata": {},
   "outputs": [],
   "source": [
    "import pandas as pd\n",
    "import numpy as np\n",
    "import os"
   ]
  },
  {
   "cell_type": "markdown",
   "metadata": {},
   "source": [
    "## Begin data-ingestion pipeline\n",
    "\n",
    "Om de data in te kunnen laden wordt er gebruik gemaakt van verschillende functies om de juiste afbeeldingspaden in de juiste dataframes te zetten. Zo zijn de train, test en validatie afbeeldingen gesplitst in drie verschillende dataframes."
   ]
  },
  {
   "cell_type": "code",
   "execution_count": 7,
   "metadata": {},
   "outputs": [
    {
     "name": "stdout",
     "output_type": "stream",
     "text": [
      "Train DataFrame:\n"
     ]
    },
    {
     "data": {
      "text/html": [
       "<div>\n",
       "<style scoped>\n",
       "    .dataframe tbody tr th:only-of-type {\n",
       "        vertical-align: middle;\n",
       "    }\n",
       "\n",
       "    .dataframe tbody tr th {\n",
       "        vertical-align: top;\n",
       "    }\n",
       "\n",
       "    .dataframe thead th {\n",
       "        text-align: right;\n",
       "    }\n",
       "</style>\n",
       "<table border=\"1\" class=\"dataframe\">\n",
       "  <thead>\n",
       "    <tr style=\"text-align: right;\">\n",
       "      <th></th>\n",
       "      <th>filename</th>\n",
       "      <th>filepath</th>\n",
       "      <th>labels</th>\n",
       "    </tr>\n",
       "  </thead>\n",
       "  <tbody>\n",
       "    <tr>\n",
       "      <th>0</th>\n",
       "      <td>2513260012_03d33305cf.jpg</td>\n",
       "      <td>Images\\2513260012_03d33305cf.jpg</td>\n",
       "      <td>[Two, dogs, running, through, a, low, lying, b...</td>\n",
       "    </tr>\n",
       "    <tr>\n",
       "      <th>1</th>\n",
       "      <td>2903617548_d3e38d7f88.jpg</td>\n",
       "      <td>Images\\2903617548_d3e38d7f88.jpg</td>\n",
       "      <td>[The, little, boy, is, playing, with, a, croqu...</td>\n",
       "    </tr>\n",
       "    <tr>\n",
       "      <th>2</th>\n",
       "      <td>3338291921_fe7ae0c8f8.jpg</td>\n",
       "      <td>Images\\3338291921_fe7ae0c8f8.jpg</td>\n",
       "      <td>[A, dog, with, something, pink, in, its, mouth...</td>\n",
       "    </tr>\n",
       "    <tr>\n",
       "      <th>3</th>\n",
       "      <td>488416045_1c6d903fe0.jpg</td>\n",
       "      <td>Images\\488416045_1c6d903fe0.jpg</td>\n",
       "      <td>[The, large, brown, dog, is, running, on, the,...</td>\n",
       "    </tr>\n",
       "    <tr>\n",
       "      <th>4</th>\n",
       "      <td>2644326817_8f45080b87.jpg</td>\n",
       "      <td>Images\\2644326817_8f45080b87.jpg</td>\n",
       "      <td>[The, black, dog, is, dropping, a, red, disc, ...</td>\n",
       "    </tr>\n",
       "  </tbody>\n",
       "</table>\n",
       "</div>"
      ],
      "text/plain": [
       "                    filename                          filepath  \\\n",
       "0  2513260012_03d33305cf.jpg  Images\\2513260012_03d33305cf.jpg   \n",
       "1  2903617548_d3e38d7f88.jpg  Images\\2903617548_d3e38d7f88.jpg   \n",
       "2  3338291921_fe7ae0c8f8.jpg  Images\\3338291921_fe7ae0c8f8.jpg   \n",
       "3   488416045_1c6d903fe0.jpg   Images\\488416045_1c6d903fe0.jpg   \n",
       "4  2644326817_8f45080b87.jpg  Images\\2644326817_8f45080b87.jpg   \n",
       "\n",
       "                                              labels  \n",
       "0  [Two, dogs, running, through, a, low, lying, b...  \n",
       "1  [The, little, boy, is, playing, with, a, croqu...  \n",
       "2  [A, dog, with, something, pink, in, its, mouth...  \n",
       "3  [The, large, brown, dog, is, running, on, the,...  \n",
       "4  [The, black, dog, is, dropping, a, red, disc, ...  "
      ]
     },
     "metadata": {},
     "output_type": "display_data"
    },
    {
     "name": "stdout",
     "output_type": "stream",
     "text": [
      "\n",
      "Test DataFrame:\n"
     ]
    },
    {
     "data": {
      "text/html": [
       "<div>\n",
       "<style scoped>\n",
       "    .dataframe tbody tr th:only-of-type {\n",
       "        vertical-align: middle;\n",
       "    }\n",
       "\n",
       "    .dataframe tbody tr th {\n",
       "        vertical-align: top;\n",
       "    }\n",
       "\n",
       "    .dataframe thead th {\n",
       "        text-align: right;\n",
       "    }\n",
       "</style>\n",
       "<table border=\"1\" class=\"dataframe\">\n",
       "  <thead>\n",
       "    <tr style=\"text-align: right;\">\n",
       "      <th></th>\n",
       "      <th>filename</th>\n",
       "      <th>filepath</th>\n",
       "      <th>labels</th>\n",
       "    </tr>\n",
       "  </thead>\n",
       "  <tbody>\n",
       "    <tr>\n",
       "      <th>0</th>\n",
       "      <td>3385593926_d3e9c21170.jpg</td>\n",
       "      <td>Images\\3385593926_d3e9c21170.jpg</td>\n",
       "      <td>[Two, dogs, playing, in, the, snow, .]</td>\n",
       "    </tr>\n",
       "    <tr>\n",
       "      <th>1</th>\n",
       "      <td>2677656448_6b7e7702af.jpg</td>\n",
       "      <td>Images\\2677656448_6b7e7702af.jpg</td>\n",
       "      <td>[The, small, brown, and, white, dog, is, in, t...</td>\n",
       "    </tr>\n",
       "    <tr>\n",
       "      <th>2</th>\n",
       "      <td>311146855_0b65fdb169.jpg</td>\n",
       "      <td>Images\\311146855_0b65fdb169.jpg</td>\n",
       "      <td>[Two, people, are, dancing, with, drums, on, t...</td>\n",
       "    </tr>\n",
       "    <tr>\n",
       "      <th>3</th>\n",
       "      <td>1258913059_07c613f7ff.jpg</td>\n",
       "      <td>Images\\1258913059_07c613f7ff.jpg</td>\n",
       "      <td>[Three, people, sit, at, a, picnic, table, out...</td>\n",
       "    </tr>\n",
       "    <tr>\n",
       "      <th>4</th>\n",
       "      <td>241347760_d44c8d3a01.jpg</td>\n",
       "      <td>Images\\241347760_d44c8d3a01.jpg</td>\n",
       "      <td>[The, American, footballer, is, wearing, a, re...</td>\n",
       "    </tr>\n",
       "  </tbody>\n",
       "</table>\n",
       "</div>"
      ],
      "text/plain": [
       "                    filename                          filepath  \\\n",
       "0  3385593926_d3e9c21170.jpg  Images\\3385593926_d3e9c21170.jpg   \n",
       "1  2677656448_6b7e7702af.jpg  Images\\2677656448_6b7e7702af.jpg   \n",
       "2   311146855_0b65fdb169.jpg   Images\\311146855_0b65fdb169.jpg   \n",
       "3  1258913059_07c613f7ff.jpg  Images\\1258913059_07c613f7ff.jpg   \n",
       "4   241347760_d44c8d3a01.jpg   Images\\241347760_d44c8d3a01.jpg   \n",
       "\n",
       "                                              labels  \n",
       "0             [Two, dogs, playing, in, the, snow, .]  \n",
       "1  [The, small, brown, and, white, dog, is, in, t...  \n",
       "2  [Two, people, are, dancing, with, drums, on, t...  \n",
       "3  [Three, people, sit, at, a, picnic, table, out...  \n",
       "4  [The, American, footballer, is, wearing, a, re...  "
      ]
     },
     "metadata": {},
     "output_type": "display_data"
    },
    {
     "name": "stdout",
     "output_type": "stream",
     "text": [
      "\n",
      "Validation DataFrame:\n"
     ]
    },
    {
     "data": {
      "text/html": [
       "<div>\n",
       "<style scoped>\n",
       "    .dataframe tbody tr th:only-of-type {\n",
       "        vertical-align: middle;\n",
       "    }\n",
       "\n",
       "    .dataframe tbody tr th {\n",
       "        vertical-align: top;\n",
       "    }\n",
       "\n",
       "    .dataframe thead th {\n",
       "        text-align: right;\n",
       "    }\n",
       "</style>\n",
       "<table border=\"1\" class=\"dataframe\">\n",
       "  <thead>\n",
       "    <tr style=\"text-align: right;\">\n",
       "      <th></th>\n",
       "      <th>filename</th>\n",
       "      <th>filepath</th>\n",
       "      <th>labels</th>\n",
       "    </tr>\n",
       "  </thead>\n",
       "  <tbody>\n",
       "    <tr>\n",
       "      <th>0</th>\n",
       "      <td>2090545563_a4e66ec76b.jpg</td>\n",
       "      <td>Images\\2090545563_a4e66ec76b.jpg</td>\n",
       "      <td>[two, young, children, on, a, skateboard, goin...</td>\n",
       "    </tr>\n",
       "    <tr>\n",
       "      <th>1</th>\n",
       "      <td>3393035454_2d2370ffd4.jpg</td>\n",
       "      <td>Images\\3393035454_2d2370ffd4.jpg</td>\n",
       "      <td>[Child, in, blue, and, grey, shirt, jumping, o...</td>\n",
       "    </tr>\n",
       "    <tr>\n",
       "      <th>2</th>\n",
       "      <td>3695064885_a6922f06b2.jpg</td>\n",
       "      <td>Images\\3695064885_a6922f06b2.jpg</td>\n",
       "      <td>[The, woman, is, leading, a, dog, through, an,...</td>\n",
       "    </tr>\n",
       "    <tr>\n",
       "      <th>3</th>\n",
       "      <td>1679557684_50a206e4a9.jpg</td>\n",
       "      <td>Images\\1679557684_50a206e4a9.jpg</td>\n",
       "      <td>[Two, dogs, playing, with, a, tennis, ball, in...</td>\n",
       "    </tr>\n",
       "    <tr>\n",
       "      <th>4</th>\n",
       "      <td>3582685410_05315a15b8.jpg</td>\n",
       "      <td>Images\\3582685410_05315a15b8.jpg</td>\n",
       "      <td>[Two, women, in, bathing, suits, climb, rock, ...</td>\n",
       "    </tr>\n",
       "  </tbody>\n",
       "</table>\n",
       "</div>"
      ],
      "text/plain": [
       "                    filename                          filepath  \\\n",
       "0  2090545563_a4e66ec76b.jpg  Images\\2090545563_a4e66ec76b.jpg   \n",
       "1  3393035454_2d2370ffd4.jpg  Images\\3393035454_2d2370ffd4.jpg   \n",
       "2  3695064885_a6922f06b2.jpg  Images\\3695064885_a6922f06b2.jpg   \n",
       "3  1679557684_50a206e4a9.jpg  Images\\1679557684_50a206e4a9.jpg   \n",
       "4  3582685410_05315a15b8.jpg  Images\\3582685410_05315a15b8.jpg   \n",
       "\n",
       "                                              labels  \n",
       "0  [two, young, children, on, a, skateboard, goin...  \n",
       "1  [Child, in, blue, and, grey, shirt, jumping, o...  \n",
       "2  [The, woman, is, leading, a, dog, through, an,...  \n",
       "3  [Two, dogs, playing, with, a, tennis, ball, in...  \n",
       "4  [Two, women, in, bathing, suits, climb, rock, ...  "
      ]
     },
     "metadata": {},
     "output_type": "display_data"
    }
   ],
   "source": [
    "# Functie om afbeeldingen te lezen vanuit een txt bestand\n",
    "def read_image_filenames(file_path):\n",
    "    with open(file_path, 'r') as file:\n",
    "        lines = file.read().splitlines()\n",
    "    return lines\n",
    "\n",
    "# Functie om lemma tokens in te lezen\n",
    "def read_tokens(file_path):\n",
    "    with open(file_path, 'r') as file:\n",
    "        lines = file.read().splitlines()\n",
    "    tokens_dict = {}\n",
    "    for line in lines:\n",
    "        parts = line.split()\n",
    "        image_token = parts[0].split('#')[0]\n",
    "        tokens = parts[1:]\n",
    "        tokens_dict[image_token] = tokens\n",
    "    return tokens_dict\n",
    "\n",
    "# Functie om afbeeldingen in DataFrames te laden\n",
    "def load_images_into_dataframes(data_dir, label_dir, labels_file, train_file, test_file, val_file):\n",
    "    # Lezen van bestandsnamen uit txt bestanden\n",
    "    train_filenames = read_image_filenames(os.path.join(label_dir, train_file))\n",
    "    test_filenames = read_image_filenames(os.path.join(label_dir, test_file))\n",
    "    val_filenames = read_image_filenames(os.path.join(label_dir, val_file))\n",
    "\n",
    "    # Inlezen van alle tokens\n",
    "    tokens_dict = read_tokens(os.path.join(label_dir, labels_file))\n",
    "\n",
    "    # Aanmaken DataFrames\n",
    "    train_df = pd.DataFrame({'filename': train_filenames})\n",
    "    test_df = pd.DataFrame({'filename': test_filenames})\n",
    "    val_df = pd.DataFrame({'filename': val_filenames})\n",
    "\n",
    "    # Toevoegen van volledige file_paths\n",
    "    train_df['filepath'] = train_df['filename'].apply(lambda x: os.path.join(data_dir, x))\n",
    "    test_df['filepath'] = test_df['filename'].apply(lambda x: os.path.join(data_dir, x))\n",
    "    val_df['filepath'] = val_df['filename'].apply(lambda x: os.path.join(data_dir, x))\n",
    "\n",
    "    # Toevoegen van de juiste labels aan de juiste dataframes\n",
    "    train_df['labels'] = train_df['filename'].apply(lambda x: tokens_dict.get(x, []))\n",
    "    test_df['labels'] = test_df['filename'].apply(lambda x: tokens_dict.get(x, []))\n",
    "    val_df['labels'] = val_df['filename'].apply(lambda x: tokens_dict.get(x, []))\n",
    "\n",
    "    return train_df, test_df, val_df\n",
    "\n",
    "# Toewijzen van alle paden\n",
    "data_directory = 'Images'\n",
    "label_directory = 'Label_files'\n",
    "labels_file = 'Flickr8k.token.txt'\n",
    "train_file_path = 'Flickr_8k.trainImages.txt'\n",
    "test_file_path = 'Flickr_8k.testImages.txt'\n",
    "val_file_path = 'Flickr_8k.devImages.txt'\n",
    "\n",
    "# Laden van afbeeldingen in datasets\n",
    "train_df, test_df, val_df = load_images_into_dataframes(\n",
    "    data_directory, label_directory, labels_file, train_file_path, test_file_path, val_file_path\n",
    "    )\n",
    "\n",
    "# Tonen van de datasets\n",
    "print(\"Train DataFrame:\")\n",
    "display(train_df.head())\n",
    "\n",
    "print(\"\\nTest DataFrame:\")\n",
    "display(test_df.head())\n",
    "\n",
    "print(\"\\nValidation DataFrame:\")\n",
    "display(val_df.head())\n"
   ]
  },
  {
   "cell_type": "markdown",
   "metadata": {},
   "source": [
    "Nu de datasets zijn ingeladen kan er gekeken worden naar verschillende vormen van Feature Engineering. Aangezien de token het makkelijkste zijn om te onderzoeken, zullen we hier eerst naar gaan kijken."
   ]
  },
  {
   "cell_type": "code",
   "execution_count": 8,
   "metadata": {},
   "outputs": [
    {
     "data": {
      "text/plain": [
       "['Two',\n",
       " 'dogs',\n",
       " 'running',\n",
       " 'through',\n",
       " 'a',\n",
       " 'low',\n",
       " 'lying',\n",
       " 'body',\n",
       " 'of',\n",
       " 'water',\n",
       " '.']"
      ]
     },
     "execution_count": 8,
     "metadata": {},
     "output_type": "execute_result"
    }
   ],
   "source": [
    "# Het tonen van een token\n",
    "train_df['labels'][0]"
   ]
  },
  {
   "cell_type": "markdown",
   "metadata": {},
   "source": [
    "Zoals er te zien is, is er verschillende informatie beschikbaar over de informatie. Volgens de tokens bevat de afbeelding twee honden die door een kleine plas water rennen. Echter bevat de caption ook nog een punt aan het einde. Deze is overbodig en lijdt tot overbodige informatie naar het model."
   ]
  },
  {
   "cell_type": "code",
   "execution_count": null,
   "metadata": {},
   "outputs": [],
   "source": []
  },
  {
   "cell_type": "code",
   "execution_count": null,
   "metadata": {},
   "outputs": [],
   "source": []
  },
  {
   "cell_type": "markdown",
   "metadata": {},
   "source": [
    "## Begin ML-pipeline"
   ]
  },
  {
   "cell_type": "code",
   "execution_count": null,
   "metadata": {},
   "outputs": [],
   "source": []
  },
  {
   "cell_type": "code",
   "execution_count": null,
   "metadata": {},
   "outputs": [],
   "source": []
  },
  {
   "cell_type": "code",
   "execution_count": null,
   "metadata": {},
   "outputs": [],
   "source": []
  }
 ],
 "metadata": {
  "kernelspec": {
   "display_name": "Python 3",
   "language": "python",
   "name": "python3"
  },
  "language_info": {
   "codemirror_mode": {
    "name": "ipython",
    "version": 3
   },
   "file_extension": ".py",
   "mimetype": "text/x-python",
   "name": "python",
   "nbconvert_exporter": "python",
   "pygments_lexer": "ipython3",
   "version": "3.12.0"
  }
 },
 "nbformat": 4,
 "nbformat_minor": 2
}
