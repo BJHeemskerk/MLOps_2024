{
  "cells": [
    {
      "cell_type": "markdown",
      "metadata": {
        "id": "ToObiYl9yxZl"
      },
      "source": [
        "## **Teamleden**\n",
        "\n",
        "|Teamleden|GitHub Username|\n",
        "|--|--|\n",
        "|Nima Ghafar|NimaGhafar|\n",
        "|Busse Heemskerk|BJHeemskerk|\n",
        "|Henry Lau||\n",
        "|Jesse van Leeuwen|22096337|\n",
        "\n",
        "# *Foto Herkennings app*\n",
        "\n",
        "In dit notebook zal de pipeline worden opgesteld waarmee data kan worden ingeladen en het model mee wordt getraind, gedeployed en gehertraind.\n",
        "\n",
        "-verdere opdrachtomschrijving-\n",
        "\n",
        "-inhoudsopgave-\n",
        "\n",
        "## Inladen van de libaries en de data"
      ]
    },
    {
      "cell_type": "code",
      "execution_count": 32,
      "metadata": {
        "id": "ekGTQ4vCyxZs"
      },
      "outputs": [],
      "source": [
        "import pandas as pd\n",
        "import numpy as np\n",
        "from PIL import Image\n"
      ]
    },
    {
      "cell_type": "code",
      "execution_count": 14,
      "metadata": {
        "colab": {
          "base_uri": "https://localhost:8080/"
        },
        "id": "3jbFDAkrzJr3",
        "outputId": "b828e628-828d-422b-8761-96e756dfbd31"
      },
      "outputs": [
        {
          "ename": "ModuleNotFoundError",
          "evalue": "No module named 'google.colab'",
          "output_type": "error",
          "traceback": [
            "\u001b[1;31m---------------------------------------------------------------------------\u001b[0m",
            "\u001b[1;31mModuleNotFoundError\u001b[0m                       Traceback (most recent call last)",
            "Cell \u001b[1;32mIn[14], line 1\u001b[0m\n\u001b[1;32m----> 1\u001b[0m \u001b[38;5;28;01mfrom\u001b[39;00m \u001b[38;5;21;01mgoogle\u001b[39;00m\u001b[38;5;21;01m.\u001b[39;00m\u001b[38;5;21;01mcolab\u001b[39;00m \u001b[38;5;28;01mimport\u001b[39;00m drive\n\u001b[0;32m      2\u001b[0m drive\u001b[38;5;241m.\u001b[39mmount(\u001b[38;5;124m'\u001b[39m\u001b[38;5;124m/content/drive\u001b[39m\u001b[38;5;124m'\u001b[39m)\n",
            "\u001b[1;31mModuleNotFoundError\u001b[0m: No module named 'google.colab'"
          ]
        }
      ],
      "source": [
        "from google.colab import drive\n",
        "drive.mount('/content/drive')"
      ]
    },
    {
      "cell_type": "code",
      "execution_count": null,
      "metadata": {
        "id": "JthLmrS60KD9"
      },
      "outputs": [],
      "source": [
        "import os\n",
        "os.chdir('/content/drive/My Drive//mlops/MLOps_2024')"
      ]
    },
    {
      "cell_type": "markdown",
      "metadata": {
        "id": "t08WAdSWyxZw"
      },
      "source": [
        "## Begin data-ingestion pipeline\n",
        "\n",
        "Om de data in te kunnen laden wordt er gebruik gemaakt van verschillende functies om de juiste afbeeldingspaden in de juiste dataframes te zetten. Zo zijn de train, test en validatie afbeeldingen gesplitst in drie verschillende dataframes."
      ]
    },
    {
      "cell_type": "code",
      "execution_count": 38,
      "metadata": {
        "colab": {
          "base_uri": "https://localhost:8080/",
          "height": 677
        },
        "id": "PyIoiLMJyxZx",
        "outputId": "49bf487c-a73a-4da2-ba6f-8ad69240b6ec"
      },
      "outputs": [
        {
          "name": "stdout",
          "output_type": "stream",
          "text": [
            "Train DataFrame:\n"
          ]
        },
        {
          "data": {
            "text/html": [
              "<div>\n",
              "<style scoped>\n",
              "    .dataframe tbody tr th:only-of-type {\n",
              "        vertical-align: middle;\n",
              "    }\n",
              "\n",
              "    .dataframe tbody tr th {\n",
              "        vertical-align: top;\n",
              "    }\n",
              "\n",
              "    .dataframe thead th {\n",
              "        text-align: right;\n",
              "    }\n",
              "</style>\n",
              "<table border=\"1\" class=\"dataframe\">\n",
              "  <thead>\n",
              "    <tr style=\"text-align: right;\">\n",
              "      <th></th>\n",
              "      <th>filename</th>\n",
              "      <th>filepath</th>\n",
              "      <th>image</th>\n",
              "      <th>labels</th>\n",
              "    </tr>\n",
              "  </thead>\n",
              "  <tbody>\n",
              "    <tr>\n",
              "      <th>0</th>\n",
              "      <td>2513260012_03d33305cf.jpg</td>\n",
              "      <td>Images\\2513260012_03d33305cf.jpg</td>\n",
              "      <td>[[[38, 31, 25], [64, 50, 49], [78, 73, 67], [2...</td>\n",
              "      <td>[Two, dogs, running, through, a, low, lying, b...</td>\n",
              "    </tr>\n",
              "    <tr>\n",
              "      <th>1</th>\n",
              "      <td>2903617548_d3e38d7f88.jpg</td>\n",
              "      <td>Images\\2903617548_d3e38d7f88.jpg</td>\n",
              "      <td>[[[254, 254, 254], [254, 254, 254], [254, 254,...</td>\n",
              "      <td>[The, little, boy, is, playing, with, a, croqu...</td>\n",
              "    </tr>\n",
              "    <tr>\n",
              "      <th>2</th>\n",
              "      <td>3338291921_fe7ae0c8f8.jpg</td>\n",
              "      <td>Images\\3338291921_fe7ae0c8f8.jpg</td>\n",
              "      <td>[[[146, 143, 154], [149, 143, 155], [153, 142,...</td>\n",
              "      <td>[A, dog, with, something, pink, in, its, mouth...</td>\n",
              "    </tr>\n",
              "    <tr>\n",
              "      <th>3</th>\n",
              "      <td>488416045_1c6d903fe0.jpg</td>\n",
              "      <td>Images\\488416045_1c6d903fe0.jpg</td>\n",
              "      <td>[[[121, 158, 202], [117, 154, 198], [118, 155,...</td>\n",
              "      <td>[The, large, brown, dog, is, running, on, the,...</td>\n",
              "    </tr>\n",
              "    <tr>\n",
              "      <th>4</th>\n",
              "      <td>2644326817_8f45080b87.jpg</td>\n",
              "      <td>Images\\2644326817_8f45080b87.jpg</td>\n",
              "      <td>[[[168, 182, 209], [169, 183, 210], [168, 184,...</td>\n",
              "      <td>[The, black, dog, is, dropping, a, red, disc, ...</td>\n",
              "    </tr>\n",
              "  </tbody>\n",
              "</table>\n",
              "</div>"
            ],
            "text/plain": [
              "                    filename                          filepath  \\\n",
              "0  2513260012_03d33305cf.jpg  Images\\2513260012_03d33305cf.jpg   \n",
              "1  2903617548_d3e38d7f88.jpg  Images\\2903617548_d3e38d7f88.jpg   \n",
              "2  3338291921_fe7ae0c8f8.jpg  Images\\3338291921_fe7ae0c8f8.jpg   \n",
              "3   488416045_1c6d903fe0.jpg   Images\\488416045_1c6d903fe0.jpg   \n",
              "4  2644326817_8f45080b87.jpg  Images\\2644326817_8f45080b87.jpg   \n",
              "\n",
              "                                               image  \\\n",
              "0  [[[38, 31, 25], [64, 50, 49], [78, 73, 67], [2...   \n",
              "1  [[[254, 254, 254], [254, 254, 254], [254, 254,...   \n",
              "2  [[[146, 143, 154], [149, 143, 155], [153, 142,...   \n",
              "3  [[[121, 158, 202], [117, 154, 198], [118, 155,...   \n",
              "4  [[[168, 182, 209], [169, 183, 210], [168, 184,...   \n",
              "\n",
              "                                              labels  \n",
              "0  [Two, dogs, running, through, a, low, lying, b...  \n",
              "1  [The, little, boy, is, playing, with, a, croqu...  \n",
              "2  [A, dog, with, something, pink, in, its, mouth...  \n",
              "3  [The, large, brown, dog, is, running, on, the,...  \n",
              "4  [The, black, dog, is, dropping, a, red, disc, ...  "
            ]
          },
          "metadata": {},
          "output_type": "display_data"
        },
        {
          "name": "stdout",
          "output_type": "stream",
          "text": [
            "\n",
            "Test DataFrame:\n"
          ]
        },
        {
          "data": {
            "text/html": [
              "<div>\n",
              "<style scoped>\n",
              "    .dataframe tbody tr th:only-of-type {\n",
              "        vertical-align: middle;\n",
              "    }\n",
              "\n",
              "    .dataframe tbody tr th {\n",
              "        vertical-align: top;\n",
              "    }\n",
              "\n",
              "    .dataframe thead th {\n",
              "        text-align: right;\n",
              "    }\n",
              "</style>\n",
              "<table border=\"1\" class=\"dataframe\">\n",
              "  <thead>\n",
              "    <tr style=\"text-align: right;\">\n",
              "      <th></th>\n",
              "      <th>filename</th>\n",
              "      <th>filepath</th>\n",
              "      <th>image</th>\n",
              "      <th>labels</th>\n",
              "    </tr>\n",
              "  </thead>\n",
              "  <tbody>\n",
              "    <tr>\n",
              "      <th>0</th>\n",
              "      <td>3385593926_d3e9c21170.jpg</td>\n",
              "      <td>Images\\3385593926_d3e9c21170.jpg</td>\n",
              "      <td>[[[29, 33, 44], [38, 42, 53], [34, 38, 49], [2...</td>\n",
              "      <td>[Two, dogs, playing, in, the, snow, .]</td>\n",
              "    </tr>\n",
              "    <tr>\n",
              "      <th>1</th>\n",
              "      <td>2677656448_6b7e7702af.jpg</td>\n",
              "      <td>Images\\2677656448_6b7e7702af.jpg</td>\n",
              "      <td>[[[0, 61, 174], [0, 60, 169], [0, 60, 167], [1...</td>\n",
              "      <td>[The, small, brown, and, white, dog, is, in, t...</td>\n",
              "    </tr>\n",
              "    <tr>\n",
              "      <th>2</th>\n",
              "      <td>311146855_0b65fdb169.jpg</td>\n",
              "      <td>Images\\311146855_0b65fdb169.jpg</td>\n",
              "      <td>[[[253, 253, 253], [254, 254, 254], [255, 255,...</td>\n",
              "      <td>[Two, people, are, dancing, with, drums, on, t...</td>\n",
              "    </tr>\n",
              "    <tr>\n",
              "      <th>3</th>\n",
              "      <td>1258913059_07c613f7ff.jpg</td>\n",
              "      <td>Images\\1258913059_07c613f7ff.jpg</td>\n",
              "      <td>[[[12, 24, 46], [18, 22, 51], [16, 20, 49], [1...</td>\n",
              "      <td>[Three, people, sit, at, a, picnic, table, out...</td>\n",
              "    </tr>\n",
              "    <tr>\n",
              "      <th>4</th>\n",
              "      <td>241347760_d44c8d3a01.jpg</td>\n",
              "      <td>Images\\241347760_d44c8d3a01.jpg</td>\n",
              "      <td>[[[89, 90, 84], [90, 91, 86], [89, 90, 85], [8...</td>\n",
              "      <td>[The, American, footballer, is, wearing, a, re...</td>\n",
              "    </tr>\n",
              "  </tbody>\n",
              "</table>\n",
              "</div>"
            ],
            "text/plain": [
              "                    filename                          filepath  \\\n",
              "0  3385593926_d3e9c21170.jpg  Images\\3385593926_d3e9c21170.jpg   \n",
              "1  2677656448_6b7e7702af.jpg  Images\\2677656448_6b7e7702af.jpg   \n",
              "2   311146855_0b65fdb169.jpg   Images\\311146855_0b65fdb169.jpg   \n",
              "3  1258913059_07c613f7ff.jpg  Images\\1258913059_07c613f7ff.jpg   \n",
              "4   241347760_d44c8d3a01.jpg   Images\\241347760_d44c8d3a01.jpg   \n",
              "\n",
              "                                               image  \\\n",
              "0  [[[29, 33, 44], [38, 42, 53], [34, 38, 49], [2...   \n",
              "1  [[[0, 61, 174], [0, 60, 169], [0, 60, 167], [1...   \n",
              "2  [[[253, 253, 253], [254, 254, 254], [255, 255,...   \n",
              "3  [[[12, 24, 46], [18, 22, 51], [16, 20, 49], [1...   \n",
              "4  [[[89, 90, 84], [90, 91, 86], [89, 90, 85], [8...   \n",
              "\n",
              "                                              labels  \n",
              "0             [Two, dogs, playing, in, the, snow, .]  \n",
              "1  [The, small, brown, and, white, dog, is, in, t...  \n",
              "2  [Two, people, are, dancing, with, drums, on, t...  \n",
              "3  [Three, people, sit, at, a, picnic, table, out...  \n",
              "4  [The, American, footballer, is, wearing, a, re...  "
            ]
          },
          "metadata": {},
          "output_type": "display_data"
        },
        {
          "name": "stdout",
          "output_type": "stream",
          "text": [
            "\n",
            "Validation DataFrame:\n"
          ]
        },
        {
          "data": {
            "text/html": [
              "<div>\n",
              "<style scoped>\n",
              "    .dataframe tbody tr th:only-of-type {\n",
              "        vertical-align: middle;\n",
              "    }\n",
              "\n",
              "    .dataframe tbody tr th {\n",
              "        vertical-align: top;\n",
              "    }\n",
              "\n",
              "    .dataframe thead th {\n",
              "        text-align: right;\n",
              "    }\n",
              "</style>\n",
              "<table border=\"1\" class=\"dataframe\">\n",
              "  <thead>\n",
              "    <tr style=\"text-align: right;\">\n",
              "      <th></th>\n",
              "      <th>filename</th>\n",
              "      <th>filepath</th>\n",
              "      <th>image</th>\n",
              "      <th>labels</th>\n",
              "    </tr>\n",
              "  </thead>\n",
              "  <tbody>\n",
              "    <tr>\n",
              "      <th>0</th>\n",
              "      <td>2090545563_a4e66ec76b.jpg</td>\n",
              "      <td>Images\\2090545563_a4e66ec76b.jpg</td>\n",
              "      <td>[[[174, 182, 185], [169, 177, 180], [164, 172,...</td>\n",
              "      <td>[two, young, children, on, a, skateboard, goin...</td>\n",
              "    </tr>\n",
              "    <tr>\n",
              "      <th>1</th>\n",
              "      <td>3393035454_2d2370ffd4.jpg</td>\n",
              "      <td>Images\\3393035454_2d2370ffd4.jpg</td>\n",
              "      <td>[[[153, 159, 159], [168, 173, 166], [125, 126,...</td>\n",
              "      <td>[Child, in, blue, and, grey, shirt, jumping, o...</td>\n",
              "    </tr>\n",
              "    <tr>\n",
              "      <th>2</th>\n",
              "      <td>3695064885_a6922f06b2.jpg</td>\n",
              "      <td>Images\\3695064885_a6922f06b2.jpg</td>\n",
              "      <td>[[[43, 52, 49], [36, 45, 40], [39, 48, 43], [3...</td>\n",
              "      <td>[The, woman, is, leading, a, dog, through, an,...</td>\n",
              "    </tr>\n",
              "    <tr>\n",
              "      <th>3</th>\n",
              "      <td>1679557684_50a206e4a9.jpg</td>\n",
              "      <td>Images\\1679557684_50a206e4a9.jpg</td>\n",
              "      <td>[[[70, 91, 74], [79, 92, 82], [78, 94, 81], [6...</td>\n",
              "      <td>[Two, dogs, playing, with, a, tennis, ball, in...</td>\n",
              "    </tr>\n",
              "    <tr>\n",
              "      <th>4</th>\n",
              "      <td>3582685410_05315a15b8.jpg</td>\n",
              "      <td>Images\\3582685410_05315a15b8.jpg</td>\n",
              "      <td>[[[119, 154, 212], [120, 155, 211], [122, 154,...</td>\n",
              "      <td>[Two, women, in, bathing, suits, climb, rock, ...</td>\n",
              "    </tr>\n",
              "  </tbody>\n",
              "</table>\n",
              "</div>"
            ],
            "text/plain": [
              "                    filename                          filepath  \\\n",
              "0  2090545563_a4e66ec76b.jpg  Images\\2090545563_a4e66ec76b.jpg   \n",
              "1  3393035454_2d2370ffd4.jpg  Images\\3393035454_2d2370ffd4.jpg   \n",
              "2  3695064885_a6922f06b2.jpg  Images\\3695064885_a6922f06b2.jpg   \n",
              "3  1679557684_50a206e4a9.jpg  Images\\1679557684_50a206e4a9.jpg   \n",
              "4  3582685410_05315a15b8.jpg  Images\\3582685410_05315a15b8.jpg   \n",
              "\n",
              "                                               image  \\\n",
              "0  [[[174, 182, 185], [169, 177, 180], [164, 172,...   \n",
              "1  [[[153, 159, 159], [168, 173, 166], [125, 126,...   \n",
              "2  [[[43, 52, 49], [36, 45, 40], [39, 48, 43], [3...   \n",
              "3  [[[70, 91, 74], [79, 92, 82], [78, 94, 81], [6...   \n",
              "4  [[[119, 154, 212], [120, 155, 211], [122, 154,...   \n",
              "\n",
              "                                              labels  \n",
              "0  [two, young, children, on, a, skateboard, goin...  \n",
              "1  [Child, in, blue, and, grey, shirt, jumping, o...  \n",
              "2  [The, woman, is, leading, a, dog, through, an,...  \n",
              "3  [Two, dogs, playing, with, a, tennis, ball, in...  \n",
              "4  [Two, women, in, bathing, suits, climb, rock, ...  "
            ]
          },
          "metadata": {},
          "output_type": "display_data"
        }
      ],
      "source": [
        "# Functie om afbeeldingen te lezen vanuit een txt bestand\n",
        "def read_image_filenames(file_path):\n",
        "    with open(file_path, 'r') as file:\n",
        "        lines = file.read().splitlines()\n",
        "    return lines\n",
        "\n",
        "# Functie om lemma tokens in te lezen\n",
        "def read_tokens(file_path):\n",
        "    with open(file_path, 'r') as file:\n",
        "        lines = file.read().splitlines()\n",
        "    tokens_dict = {}\n",
        "    for line in lines:\n",
        "        parts = line.split()\n",
        "        image_token = parts[0].split('#')[0]\n",
        "        tokens = parts[1:]\n",
        "        tokens_dict[image_token] = tokens\n",
        "    return tokens_dict\n",
        "\n",
        "# Functie om afbeeldingen in DataFrames te laden\n",
        "def load_images_into_dataframes(data_dir, label_dir, labels_file, train_file, test_file, val_file):\n",
        "    # Lezen van bestandsnamen uit txt bestanden\n",
        "    train_filenames = read_image_filenames(os.path.join(label_dir, train_file))\n",
        "    test_filenames = read_image_filenames(os.path.join(label_dir, test_file))\n",
        "    val_filenames = read_image_filenames(os.path.join(label_dir, val_file))\n",
        "\n",
        "    # Inlezen van alle tokens\n",
        "    tokens_dict = read_tokens(os.path.join(label_dir, labels_file))\n",
        "\n",
        "    # Aanmaken DataFrames\n",
        "    train_df = pd.DataFrame({'filename': train_filenames})\n",
        "    test_df = pd.DataFrame({'filename': test_filenames})\n",
        "    val_df = pd.DataFrame({'filename': val_filenames})\n",
        "\n",
        "    # Toevoegen van volledige file_paths\n",
        "    train_df['filepath'] = train_df['filename'].apply(lambda x: os.path.join(data_dir, x))\n",
        "    test_df['filepath'] = test_df['filename'].apply(lambda x: os.path.join(data_dir, x))\n",
        "    val_df['filepath'] = val_df['filename'].apply(lambda x: os.path.join(data_dir, x))\n",
        "\n",
        "    # Toevoegen van afbeeldingen in numpy arrays\n",
        "    train_df['image'] = train_df['filepath'].apply(lambda x: np.array(Image.open(x)))\n",
        "    test_df['image'] = test_df['filepath'].apply(lambda x: np.array(Image.open(x)))\n",
        "    val_df['image'] = val_df['filepath'].apply(lambda x: np.array(Image.open(x)))\n",
        "\n",
        "\n",
        "    # Toevoegen van de juiste labels aan de juiste dataframes\n",
        "    train_df['labels'] = train_df['filename'].apply(lambda x: tokens_dict.get(x, []))\n",
        "    test_df['labels'] = test_df['filename'].apply(lambda x: tokens_dict.get(x, []))\n",
        "    val_df['labels'] = val_df['filename'].apply(lambda x: tokens_dict.get(x, []))\n",
        "\n",
        "\n",
        "    return train_df, test_df, val_df\n",
        "\n",
        "# Toewijzen van alle paden\n",
        "data_directory = 'Images'\n",
        "label_directory = 'Label_files'\n",
        "labels_file = 'Flickr8k.token.txt'\n",
        "train_file_path = 'Flickr_8k.trainImages.txt'\n",
        "test_file_path = 'Flickr_8k.testImages.txt'\n",
        "val_file_path = 'Flickr_8k.devImages.txt'\n",
        "\n",
        "# Laden van afbeeldingen in datasets\n",
        "train_df, test_df, val_df = load_images_into_dataframes(\n",
        "    data_directory, label_directory, labels_file, train_file_path, test_file_path, val_file_path\n",
        "    )\n",
        "\n",
        "# Tonen van de datasets\n",
        "print(\"Train DataFrame:\")\n",
        "display(train_df.head())\n",
        "\n",
        "print(\"\\nTest DataFrame:\")\n",
        "display(test_df.head())\n",
        "\n",
        "print(\"\\nValidation DataFrame:\")\n",
        "display(val_df.head())\n"
      ]
    },
    {
      "cell_type": "markdown",
      "metadata": {
        "id": "uy4F1j2nyxZ0"
      },
      "source": [
        "Nu de datasets zijn ingeladen kan er gekeken worden naar verschillende vormen van Feature Engineering. Aangezien de token het makkelijkste zijn om te onderzoeken, zullen we hier eerst naar gaan kijken."
      ]
    },
    {
      "cell_type": "code",
      "execution_count": 39,
      "metadata": {
        "id": "6miYLuxDyxZ1",
        "outputId": "e923e370-161e-44a5-ee8d-70d03e6d25ce"
      },
      "outputs": [
        {
          "data": {
            "text/plain": [
              "['Two',\n",
              " 'dogs',\n",
              " 'running',\n",
              " 'through',\n",
              " 'a',\n",
              " 'low',\n",
              " 'lying',\n",
              " 'body',\n",
              " 'of',\n",
              " 'water',\n",
              " '.']"
            ]
          },
          "execution_count": 39,
          "metadata": {},
          "output_type": "execute_result"
        }
      ],
      "source": [
        "# Het tonen van een token\n",
        "train_df['labels'][0]"
      ]
    },
    {
      "cell_type": "markdown",
      "metadata": {
        "id": "DyL9yvk6yxZ2"
      },
      "source": [
        "Zoals er te zien is, is er verschillende informatie beschikbaar over de informatie. Volgens de tokens bevat de afbeelding twee honden die door een kleine plas water rennen. Echter bevat de caption ook nog een punt aan het einde. Deze is overbodig en lijdt tot overbodige informatie naar het model."
      ]
    },
    {
      "cell_type": "code",
      "execution_count": 40,
      "metadata": {
        "id": "oHcmTsheyxZ3"
      },
      "outputs": [
        {
          "data": {
            "text/plain": [
              "['Two',\n",
              " 'dogs',\n",
              " 'running',\n",
              " 'through',\n",
              " 'a',\n",
              " 'low',\n",
              " 'lying',\n",
              " 'body',\n",
              " 'of',\n",
              " 'water']"
            ]
          },
          "execution_count": 40,
          "metadata": {},
          "output_type": "execute_result"
        }
      ],
      "source": [
        "train_df['labels'] = train_df['labels'].apply(lambda x: [word for word in x if word != '.'])\n",
        "train_df['labels'][0]"
      ]
    },
    {
      "cell_type": "code",
      "execution_count": 44,
      "metadata": {
        "id": "G9ThdTbKyxZ3"
      },
      "outputs": [
        {
          "data": {
            "text/html": [
              "<div>\n",
              "<style scoped>\n",
              "    .dataframe tbody tr th:only-of-type {\n",
              "        vertical-align: middle;\n",
              "    }\n",
              "\n",
              "    .dataframe tbody tr th {\n",
              "        vertical-align: top;\n",
              "    }\n",
              "\n",
              "    .dataframe thead th {\n",
              "        text-align: right;\n",
              "    }\n",
              "</style>\n",
              "<table border=\"1\" class=\"dataframe\">\n",
              "  <thead>\n",
              "    <tr style=\"text-align: right;\">\n",
              "      <th></th>\n",
              "      <th>filename</th>\n",
              "      <th>filepath</th>\n",
              "      <th>image</th>\n",
              "      <th>labels</th>\n",
              "      <th>sentence_length</th>\n",
              "      <th>word_frequencies</th>\n",
              "    </tr>\n",
              "  </thead>\n",
              "  <tbody>\n",
              "    <tr>\n",
              "      <th>0</th>\n",
              "      <td>2513260012_03d33305cf.jpg</td>\n",
              "      <td>Images\\2513260012_03d33305cf.jpg</td>\n",
              "      <td>[[[38, 31, 25], [64, 50, 49], [78, 73, 67], [2...</td>\n",
              "      <td>[Two, dogs, running, through, a, low, lying, b...</td>\n",
              "      <td>10</td>\n",
              "      <td>{'Two': 1, 'dogs': 1, 'running': 1, 'through':...</td>\n",
              "    </tr>\n",
              "    <tr>\n",
              "      <th>1</th>\n",
              "      <td>2903617548_d3e38d7f88.jpg</td>\n",
              "      <td>Images\\2903617548_d3e38d7f88.jpg</td>\n",
              "      <td>[[[254, 254, 254], [254, 254, 254], [254, 254,...</td>\n",
              "      <td>[The, little, boy, is, playing, with, a, croqu...</td>\n",
              "      <td>14</td>\n",
              "      <td>{'The': 1, 'little': 1, 'boy': 1, 'is': 1, 'pl...</td>\n",
              "    </tr>\n",
              "    <tr>\n",
              "      <th>2</th>\n",
              "      <td>3338291921_fe7ae0c8f8.jpg</td>\n",
              "      <td>Images\\3338291921_fe7ae0c8f8.jpg</td>\n",
              "      <td>[[[146, 143, 154], [149, 143, 155], [153, 142,...</td>\n",
              "      <td>[A, dog, with, something, pink, in, its, mouth...</td>\n",
              "      <td>11</td>\n",
              "      <td>{'A': 1, 'dog': 1, 'with': 1, 'something': 1, ...</td>\n",
              "    </tr>\n",
              "    <tr>\n",
              "      <th>3</th>\n",
              "      <td>488416045_1c6d903fe0.jpg</td>\n",
              "      <td>Images\\488416045_1c6d903fe0.jpg</td>\n",
              "      <td>[[[121, 158, 202], [117, 154, 198], [118, 155,...</td>\n",
              "      <td>[The, large, brown, dog, is, running, on, the,...</td>\n",
              "      <td>12</td>\n",
              "      <td>{'The': 1, 'large': 1, 'brown': 1, 'dog': 1, '...</td>\n",
              "    </tr>\n",
              "    <tr>\n",
              "      <th>4</th>\n",
              "      <td>2644326817_8f45080b87.jpg</td>\n",
              "      <td>Images\\2644326817_8f45080b87.jpg</td>\n",
              "      <td>[[[168, 182, 209], [169, 183, 210], [168, 184,...</td>\n",
              "      <td>[The, black, dog, is, dropping, a, red, disc, ...</td>\n",
              "      <td>11</td>\n",
              "      <td>{'The': 1, 'black': 1, 'dog': 1, 'is': 1, 'dro...</td>\n",
              "    </tr>\n",
              "  </tbody>\n",
              "</table>\n",
              "</div>"
            ],
            "text/plain": [
              "                    filename                          filepath  \\\n",
              "0  2513260012_03d33305cf.jpg  Images\\2513260012_03d33305cf.jpg   \n",
              "1  2903617548_d3e38d7f88.jpg  Images\\2903617548_d3e38d7f88.jpg   \n",
              "2  3338291921_fe7ae0c8f8.jpg  Images\\3338291921_fe7ae0c8f8.jpg   \n",
              "3   488416045_1c6d903fe0.jpg   Images\\488416045_1c6d903fe0.jpg   \n",
              "4  2644326817_8f45080b87.jpg  Images\\2644326817_8f45080b87.jpg   \n",
              "\n",
              "                                               image  \\\n",
              "0  [[[38, 31, 25], [64, 50, 49], [78, 73, 67], [2...   \n",
              "1  [[[254, 254, 254], [254, 254, 254], [254, 254,...   \n",
              "2  [[[146, 143, 154], [149, 143, 155], [153, 142,...   \n",
              "3  [[[121, 158, 202], [117, 154, 198], [118, 155,...   \n",
              "4  [[[168, 182, 209], [169, 183, 210], [168, 184,...   \n",
              "\n",
              "                                              labels  sentence_length  \\\n",
              "0  [Two, dogs, running, through, a, low, lying, b...               10   \n",
              "1  [The, little, boy, is, playing, with, a, croqu...               14   \n",
              "2  [A, dog, with, something, pink, in, its, mouth...               11   \n",
              "3  [The, large, brown, dog, is, running, on, the,...               12   \n",
              "4  [The, black, dog, is, dropping, a, red, disc, ...               11   \n",
              "\n",
              "                                    word_frequencies  \n",
              "0  {'Two': 1, 'dogs': 1, 'running': 1, 'through':...  \n",
              "1  {'The': 1, 'little': 1, 'boy': 1, 'is': 1, 'pl...  \n",
              "2  {'A': 1, 'dog': 1, 'with': 1, 'something': 1, ...  \n",
              "3  {'The': 1, 'large': 1, 'brown': 1, 'dog': 1, '...  \n",
              "4  {'The': 1, 'black': 1, 'dog': 1, 'is': 1, 'dro...  "
            ]
          },
          "execution_count": 44,
          "metadata": {},
          "output_type": "execute_result"
        }
      ],
      "source": [
        "# Feature Engineering op de dataset\n",
        "\n",
        "# Functie om de lengte van de zinnen te berekenen\n",
        "def calculate_sentence_length(sentence):\n",
        "    return len(sentence.split())\n",
        "\n",
        "#Functie om de frequentie van woorden te berekenen\n",
        "def calculate_word_frequencies(sentence):\n",
        "    word_freq = {}\n",
        "    for word in sentence:\n",
        "        if word in word_freq:\n",
        "            word_freq[word] += 1\n",
        "        else:\n",
        "            word_freq[word] = 1\n",
        "    return word_freq\n",
        "\n",
        "\n",
        "train_df['sentence_length'] = train_df['labels'].apply(lambda x: calculate_sentence_length(' '.join(x)))\n",
        "train_df['word_frequencies'] = train_df['labels'].apply(calculate_word_frequencies)\n",
        "\n",
        "\n",
        "train_df.head()\n"
      ]
    },
    {
      "cell_type": "markdown",
      "metadata": {
        "id": "akYjpvSuyxZ4"
      },
      "source": [
        "## Begin ML-pipeline"
      ]
    },
    {
      "cell_type": "code",
      "execution_count": null,
      "metadata": {
        "id": "VdcWVlWAyxZ5"
      },
      "outputs": [],
      "source": []
    },
    {
      "cell_type": "code",
      "execution_count": null,
      "metadata": {
        "id": "WWgV_yHryxZ5"
      },
      "outputs": [],
      "source": []
    },
    {
      "cell_type": "code",
      "execution_count": null,
      "metadata": {
        "id": "WQRXRPtGyxZ7"
      },
      "outputs": [],
      "source": []
    }
  ],
  "metadata": {
    "colab": {
      "provenance": []
    },
    "kernelspec": {
      "display_name": "Python 3",
      "language": "python",
      "name": "python3"
    },
    "language_info": {
      "codemirror_mode": {
        "name": "ipython",
        "version": 3
      },
      "file_extension": ".py",
      "mimetype": "text/x-python",
      "name": "python",
      "nbconvert_exporter": "python",
      "pygments_lexer": "ipython3",
      "version": "3.9.18"
    }
  },
  "nbformat": 4,
  "nbformat_minor": 0
}
